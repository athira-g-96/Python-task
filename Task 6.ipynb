{
 "cells": [
  {
   "cell_type": "markdown",
   "metadata": {},
   "source": [
    " #                                             PYTHON TASK"
   ]
  },
  {
   "cell_type": "markdown",
   "metadata": {},
   "source": [
    "Import necessary libraries"
   ]
  },
  {
   "cell_type": "code",
   "execution_count": 1,
   "metadata": {},
   "outputs": [],
   "source": [
    "import random\n",
    "import math\n",
    "import string\n",
    "import timeit"
   ]
  },
  {
   "cell_type": "markdown",
   "metadata": {},
   "source": [
    "Necessary characters to generate passwords of different kinds"
   ]
  },
  {
   "cell_type": "code",
   "execution_count": 81,
   "metadata": {},
   "outputs": [],
   "source": [
    "letters=string.ascii_letters\n",
    "digits=string.digits\n",
    "punctuation=string.punctuation\n",
    "upper_cace=string.ascii_uppercase"
   ]
  },
  {
   "cell_type": "markdown",
   "metadata": {},
   "source": [
    "### Generate 6 digit OTP "
   ]
  },
  {
   "cell_type": "markdown",
   "metadata": {},
   "source": [
    "##### Using random.random()"
   ]
  },
  {
   "cell_type": "code",
   "execution_count": 97,
   "metadata": {},
   "outputs": [],
   "source": [
    "my_code1='''\n",
    "def generateOTP ():\n",
    "    OTP=''\n",
    "    for i in range(6):\n",
    "        OTP += digits[math.floor(random.random()*10)] \n",
    "    return OTP \n",
    "    '''"
   ]
  },
  {
   "cell_type": "code",
   "execution_count": 98,
   "metadata": {},
   "outputs": [
    {
     "name": "stdout",
     "output_type": "stream",
     "text": [
      "6 digit OTP generated 325588\n"
     ]
    }
   ],
   "source": [
    " print(\"6 digit OTP generated\",generateOTP())"
   ]
  },
  {
   "cell_type": "markdown",
   "metadata": {},
   "source": [
    "##### Using random.randit()"
   ]
  },
  {
   "cell_type": "code",
   "execution_count": 99,
   "metadata": {},
   "outputs": [],
   "source": [
    "my_code2='''\n",
    "def genOTP():\n",
    "    OTP = ''\n",
    "    for i in range(6):\n",
    "        OTP += str(random.randint(0,9))\n",
    "    return OTP\n",
    "'''"
   ]
  },
  {
   "cell_type": "code",
   "execution_count": 100,
   "metadata": {},
   "outputs": [
    {
     "name": "stdout",
     "output_type": "stream",
     "text": [
      "6 digit OTP using genOTP function: 552845\n"
     ]
    }
   ],
   "source": [
    "print(\"6 digit OTP using genOTP function:\",genOTP())"
   ]
  },
  {
   "cell_type": "code",
   "execution_count": 101,
   "metadata": {},
   "outputs": [
    {
     "name": "stdout",
     "output_type": "stream",
     "text": [
      "Time taken using generateOTP function 0.0925597999994352\n",
      "Time taken using genOTP function: 0.08428439999988768\n"
     ]
    }
   ],
   "source": [
    "print(\"Time taken using generateOTP function\",timeit.timeit(stmt=my_code1))\n",
    "print(\"Time taken using genOTP function:\",timeit.timeit(stmt= my_code2))"
   ]
  },
  {
   "cell_type": "markdown",
   "metadata": {},
   "source": [
    "#### random.randit() takes less time to execute"
   ]
  },
  {
   "cell_type": "markdown",
   "metadata": {},
   "source": [
    "### Generate password with uppercase and lowercase alphabets alone"
   ]
  },
  {
   "cell_type": "code",
   "execution_count": 105,
   "metadata": {},
   "outputs": [],
   "source": [
    "'''Not efficient as the max index is 10 thus only alphabets from a-j \n",
    "are used to create the random password'''\n",
    "\n",
    "def generatepassword ():\n",
    "    for i in range(5):\n",
    "        password = ''.join(random.choice(letters) for i in range(5))\n",
    "    return password"
   ]
  },
  {
   "cell_type": "code",
   "execution_count": 106,
   "metadata": {},
   "outputs": [],
   "source": [
    "def get_random_string():\n",
    "    result_str = ''.join(random.choice(letters) for i in range(5))\n",
    "    return result_str"
   ]
  },
  {
   "cell_type": "code",
   "execution_count": 107,
   "metadata": {},
   "outputs": [
    {
     "name": "stdout",
     "output_type": "stream",
     "text": [
      "5 string length alphabet combination password using generate password function rHcNJ\n"
     ]
    }
   ],
   "source": [
    "print(\"5 string length alphabet combination password using generate password function\",generatepassword())\n",
    "#print(\"5 string length alphabet combination password using get_random_string function\",get_random_string())"
   ]
  },
  {
   "cell_type": "code",
   "execution_count": 108,
   "metadata": {},
   "outputs": [
    {
     "name": "stdout",
     "output_type": "stream",
     "text": [
      "Time taken using get_random_string function: 0.09156739999980346\n",
      "Time taken using generatepassword function: 0.09162999999989552\n"
     ]
    }
   ],
   "source": [
    "my_code3='''\n",
    "def generatepassword ():\n",
    "    for i in range(5):\n",
    "        password = ''.join(random.choice(letters) for i in range(5))\n",
    "    return password\n",
    "\n",
    "    '''\n",
    "\n",
    "\n",
    "my_code4='''\n",
    "def get_random_string():\n",
    "    result_str = ''.join(random.choice(letters) for i in range(5))\n",
    "    return result_str\n",
    "'''\n",
    "\n",
    "print(\"Time taken using get_random_string function:\",timeit.timeit(stmt=my_code3))\n",
    "print(\"Time taken using generatepassword function:\",timeit.timeit(stmt=my_code4))"
   ]
  },
  {
   "cell_type": "markdown",
   "metadata": {},
   "source": [
    "#### get_random_string takes less time for execution"
   ]
  },
  {
   "cell_type": "markdown",
   "metadata": {},
   "source": [
    "### Generate a password of 10 character length with atleast 2 upper case,1 special character and 1 number"
   ]
  },
  {
   "cell_type": "code",
   "execution_count": 42,
   "metadata": {},
   "outputs": [
    {
     "name": "stdout",
     "output_type": "stream",
     "text": [
      "abcdefghijklmnopqrstuvwxyzABCDEFGHIJKLMNOPQRSTUVWXYZ0123456789!\"#$%&'()*+,-./:;<=>?@[\\]^_`{|}~\n"
     ]
    }
   ],
   "source": [
    "password_char=string.ascii_letters+string.digits+string.punctuation\n",
    "print(password_char)"
   ]
  },
  {
   "cell_type": "code",
   "execution_count": 63,
   "metadata": {},
   "outputs": [
    {
     "name": "stdout",
     "output_type": "stream",
     "text": [
      "PR6$U#d\\km\n"
     ]
    }
   ],
   "source": [
    "passwrd = ''.join(random.choice(password_char[26:52]) for i in range(2))+''.join(random.choice(password_char[52:62]))+''.join(random.choice(password_char[62:94]))+''.join(random.choice(password_char) for i in range(6))\n",
    "print(passwrd)"
   ]
  },
  {
   "cell_type": "code",
   "execution_count": 66,
   "metadata": {},
   "outputs": [
    {
     "name": "stdout",
     "output_type": "stream",
     "text": [
      "$\\RmdkP6U#\n"
     ]
    }
   ],
   "source": [
    "paas_list= random.sample(passwrd,len(passwrd))\n",
    "paas=''.join(paas_list)\n",
    "print(paas)"
   ]
  },
  {
   "cell_type": "code",
   "execution_count": 67,
   "metadata": {},
   "outputs": [],
   "source": [
    "def pass_gen():\n",
    "    password_char=string.ascii_letters+string.digits+string.punctuation\n",
    "    passwrd = ''.join(random.choice(password_char[26:52]) for i in range(2))+''.join(random.choice(password_char[52:62]))+''.join(random.choice(password_char[62:94]))+''.join(random.choice(password_char) for i in range(6))\n",
    "    pass_list= random.sample(passwrd,len(passwrd))\n",
    "    pass_word=''.join(pass_list)\n",
    "    return pass_word"
   ]
  },
  {
   "cell_type": "code",
   "execution_count": 68,
   "metadata": {},
   "outputs": [
    {
     "name": "stdout",
     "output_type": "stream",
     "text": [
      "!1IFAL!zDW\n"
     ]
    }
   ],
   "source": [
    "print(pass_gen())"
   ]
  },
  {
   "cell_type": "code",
   "execution_count": 69,
   "metadata": {},
   "outputs": [
    {
     "name": "stdout",
     "output_type": "stream",
     "text": [
      "0.0903747000002113\n"
     ]
    }
   ],
   "source": [
    "my_code5='''def pass_gen():\n",
    "    password_char=string.ascii_letters+string.digits+string.punctuation\n",
    "    passwrd = ''.join(random.choice(password_char[26:52]) for i in range(2))+''.join(random.choice(password_char[52:62]))+''.join(random.choice(password_char[62:94]))+''.join(random.choice(password_char) for i in range(6))\n",
    "    pass_list= random.sample(passwrd,len(passwrd))\n",
    "    pass_word=''.join(pass_list)\n",
    "    return pass_word'''\n",
    "print(timeit.timeit(stmt=my_code5))"
   ]
  },
  {
   "cell_type": "code",
   "execution_count": 78,
   "metadata": {},
   "outputs": [],
   "source": [
    "def gen():\n",
    "    upper=string.ascii_uppercase\n",
    "    letters=string.ascii_letters\n",
    "    digits=string.digits\n",
    "    chars=string.punctuation\n",
    "    all_chars= string.ascii_letters+string.digits+string.punctuation\n",
    "    password=''.join(random.choice(letters)for i in range(2)) + ''.join(random.choice(digits)) + ''.join(random.choice(chars)) + ''.join(random.choice(all_chars) for i in range(6))\n",
    "    l=random.sample(password,len(password))\n",
    "    pass_word=''.join(l)\n",
    "    return pass_word"
   ]
  },
  {
   "cell_type": "code",
   "execution_count": 79,
   "metadata": {},
   "outputs": [
    {
     "name": "stdout",
     "output_type": "stream",
     "text": [
      "~q)!=8o1(s\n"
     ]
    }
   ],
   "source": [
    "print(gen())"
   ]
  },
  {
   "cell_type": "code",
   "execution_count": null,
   "metadata": {},
   "outputs": [],
   "source": []
  }
 ],
 "metadata": {
  "kernelspec": {
   "display_name": "Python 3",
   "language": "python",
   "name": "python3"
  },
  "language_info": {
   "codemirror_mode": {
    "name": "ipython",
    "version": 3
   },
   "file_extension": ".py",
   "mimetype": "text/x-python",
   "name": "python",
   "nbconvert_exporter": "python",
   "pygments_lexer": "ipython3",
   "version": "3.7.6"
  }
 },
 "nbformat": 4,
 "nbformat_minor": 4
}
