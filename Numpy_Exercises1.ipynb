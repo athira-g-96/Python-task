{
 "cells": [
  {
   "cell_type": "code",
   "execution_count": 1,
   "metadata": {},
   "outputs": [],
   "source": [
    "import numpy as np"
   ]
  },
  {
   "cell_type": "code",
   "execution_count": 2,
   "metadata": {},
   "outputs": [
    {
     "data": {
      "text/plain": [
       "'1.18.1'"
      ]
     },
     "execution_count": 2,
     "metadata": {},
     "output_type": "execute_result"
    }
   ],
   "source": [
    "np.__version__"
   ]
  },
  {
   "cell_type": "code",
   "execution_count": 3,
   "metadata": {},
   "outputs": [
    {
     "name": "stdout",
     "output_type": "stream",
     "text": [
      "blas_mkl_info:\n",
      "    libraries = ['mkl_rt']\n",
      "    library_dirs = ['C:/ProgramData/Anaconda3\\\\Library\\\\lib']\n",
      "    define_macros = [('SCIPY_MKL_H', None), ('HAVE_CBLAS', None)]\n",
      "    include_dirs = ['C:\\\\Program Files (x86)\\\\IntelSWTools\\\\compilers_and_libraries_2019.0.117\\\\windows\\\\mkl', 'C:\\\\Program Files (x86)\\\\IntelSWTools\\\\compilers_and_libraries_2019.0.117\\\\windows\\\\mkl\\\\include', 'C:\\\\Program Files (x86)\\\\IntelSWTools\\\\compilers_and_libraries_2019.0.117\\\\windows\\\\mkl\\\\lib', 'C:/ProgramData/Anaconda3\\\\Library\\\\include']\n",
      "blas_opt_info:\n",
      "    libraries = ['mkl_rt']\n",
      "    library_dirs = ['C:/ProgramData/Anaconda3\\\\Library\\\\lib']\n",
      "    define_macros = [('SCIPY_MKL_H', None), ('HAVE_CBLAS', None)]\n",
      "    include_dirs = ['C:\\\\Program Files (x86)\\\\IntelSWTools\\\\compilers_and_libraries_2019.0.117\\\\windows\\\\mkl', 'C:\\\\Program Files (x86)\\\\IntelSWTools\\\\compilers_and_libraries_2019.0.117\\\\windows\\\\mkl\\\\include', 'C:\\\\Program Files (x86)\\\\IntelSWTools\\\\compilers_and_libraries_2019.0.117\\\\windows\\\\mkl\\\\lib', 'C:/ProgramData/Anaconda3\\\\Library\\\\include']\n",
      "lapack_mkl_info:\n",
      "    libraries = ['mkl_rt']\n",
      "    library_dirs = ['C:/ProgramData/Anaconda3\\\\Library\\\\lib']\n",
      "    define_macros = [('SCIPY_MKL_H', None), ('HAVE_CBLAS', None)]\n",
      "    include_dirs = ['C:\\\\Program Files (x86)\\\\IntelSWTools\\\\compilers_and_libraries_2019.0.117\\\\windows\\\\mkl', 'C:\\\\Program Files (x86)\\\\IntelSWTools\\\\compilers_and_libraries_2019.0.117\\\\windows\\\\mkl\\\\include', 'C:\\\\Program Files (x86)\\\\IntelSWTools\\\\compilers_and_libraries_2019.0.117\\\\windows\\\\mkl\\\\lib', 'C:/ProgramData/Anaconda3\\\\Library\\\\include']\n",
      "lapack_opt_info:\n",
      "    libraries = ['mkl_rt']\n",
      "    library_dirs = ['C:/ProgramData/Anaconda3\\\\Library\\\\lib']\n",
      "    define_macros = [('SCIPY_MKL_H', None), ('HAVE_CBLAS', None)]\n",
      "    include_dirs = ['C:\\\\Program Files (x86)\\\\IntelSWTools\\\\compilers_and_libraries_2019.0.117\\\\windows\\\\mkl', 'C:\\\\Program Files (x86)\\\\IntelSWTools\\\\compilers_and_libraries_2019.0.117\\\\windows\\\\mkl\\\\include', 'C:\\\\Program Files (x86)\\\\IntelSWTools\\\\compilers_and_libraries_2019.0.117\\\\windows\\\\mkl\\\\lib', 'C:/ProgramData/Anaconda3\\\\Library\\\\include']\n"
     ]
    }
   ],
   "source": [
    "np.__config__.show()"
   ]
  },
  {
   "cell_type": "code",
   "execution_count": 4,
   "metadata": {},
   "outputs": [
    {
     "name": "stdout",
     "output_type": "stream",
     "text": [
      "add(x1, x2, /, out=None, *, where=True, casting='same_kind', order='K', dtype=None, subok=True[, signature, extobj])\n",
      "\n",
      "Add arguments element-wise.\n",
      "\n",
      "Parameters\n",
      "----------\n",
      "x1, x2 : array_like\n",
      "    The arrays to be added. If ``x1.shape != x2.shape``, they must be broadcastable to a common shape (which becomes the shape of the output).\n",
      "out : ndarray, None, or tuple of ndarray and None, optional\n",
      "    A location into which the result is stored. If provided, it must have\n",
      "    a shape that the inputs broadcast to. If not provided or None,\n",
      "    a freshly-allocated array is returned. A tuple (possible only as a\n",
      "    keyword argument) must have length equal to the number of outputs.\n",
      "where : array_like, optional\n",
      "    This condition is broadcast over the input. At locations where the\n",
      "    condition is True, the `out` array will be set to the ufunc result.\n",
      "    Elsewhere, the `out` array will retain its original value.\n",
      "    Note that if an uninitialized `out` array is created via the default\n",
      "    ``out=None``, locations within it where the condition is False will\n",
      "    remain uninitialized.\n",
      "**kwargs\n",
      "    For other keyword-only arguments, see the\n",
      "    :ref:`ufunc docs <ufuncs.kwargs>`.\n",
      "\n",
      "Returns\n",
      "-------\n",
      "add : ndarray or scalar\n",
      "    The sum of `x1` and `x2`, element-wise.\n",
      "    This is a scalar if both `x1` and `x2` are scalars.\n",
      "\n",
      "Notes\n",
      "-----\n",
      "Equivalent to `x1` + `x2` in terms of array broadcasting.\n",
      "\n",
      "Examples\n",
      "--------\n",
      ">>> np.add(1.0, 4.0)\n",
      "5.0\n",
      ">>> x1 = np.arange(9.0).reshape((3, 3))\n",
      ">>> x2 = np.arange(3.0)\n",
      ">>> np.add(x1, x2)\n",
      "array([[  0.,   2.,   4.],\n",
      "       [  3.,   5.,   7.],\n",
      "       [  6.,   8.,  10.]])\n",
      "None\n"
     ]
    }
   ],
   "source": [
    "print(np.info(np.add))"
   ]
  },
  {
   "cell_type": "code",
   "execution_count": 5,
   "metadata": {},
   "outputs": [],
   "source": [
    "x= np.array([1,2,3,4,5,6,7,8,9])\n",
    "y=np.array([1,0,2,0,3,0,3,9,8,7,6,5,0,10])"
   ]
  },
  {
   "cell_type": "code",
   "execution_count": 15,
   "metadata": {},
   "outputs": [
    {
     "name": "stdout",
     "output_type": "stream",
     "text": [
      "True if none of the elements in the array is zero \n",
      "\n",
      "Array: [1 2 3 4 5 6 7 8 9] \n",
      " Output: True \n",
      "\n",
      "Array: [ 1  0  2  0  3  0  3  9  8  7  6  5  0 10] \n",
      " Output: False\n"
     ]
    }
   ],
   "source": [
    "print('True if none of the elements in the array is zero \\n')\n",
    "print('Array:',x,'\\n Output:',np.all(x),'\\n')\n",
    "print('Array:',y,'\\n Output:',np.all(y))"
   ]
  },
  {
   "cell_type": "code",
   "execution_count": 17,
   "metadata": {},
   "outputs": [],
   "source": [
    "z=np.array([0,0,0,0])"
   ]
  },
  {
   "cell_type": "code",
   "execution_count": 18,
   "metadata": {},
   "outputs": [
    {
     "name": "stdout",
     "output_type": "stream",
     "text": [
      "True if any of the elements in the array is non-zero \n",
      "\n",
      "Array: [1 2 3 4 5 6 7 8 9] \n",
      " Output: True \n",
      "\n",
      "Array: [ 1  0  2  0  3  0  3  9  8  7  6  5  0 10] \n",
      " Output: True \n",
      "\n",
      "Array: [0 0 0 0] \n",
      " Output: False\n"
     ]
    }
   ],
   "source": [
    "print('True if any of the elements in the array is non-zero \\n')\n",
    "print('Array:',x,'\\n Output:',np.any(x),'\\n')\n",
    "print('Array:',y,'\\n Output:',np.any(y),'\\n')\n",
    "print('Array:',z,'\\n Output:',np.any(z))"
   ]
  },
  {
   "cell_type": "code",
   "execution_count": 21,
   "metadata": {},
   "outputs": [],
   "source": [
    "a=np.array([np.nan,0,np.inf,10])"
   ]
  },
  {
   "cell_type": "code",
   "execution_count": 23,
   "metadata": {},
   "outputs": [
    {
     "name": "stdout",
     "output_type": "stream",
     "text": [
      "True if array element is finite \n",
      "\n",
      "Array: [1 2 3 4 5 6 7 8 9] \n",
      " Output: [ True  True  True  True  True  True  True  True  True] \n",
      "\n",
      "Array: [nan  0. inf 10.] \n",
      " Output: [False  True False  True]\n"
     ]
    }
   ],
   "source": [
    "print('True if array element is finite \\n')\n",
    "print('Array:',x,'\\n Output:',np.isfinite(x),'\\n')\n",
    "print('Array:',a,'\\n Output:',np.isfinite(a))"
   ]
  },
  {
   "cell_type": "code",
   "execution_count": 29,
   "metadata": {},
   "outputs": [],
   "source": [
    "b=np.array([0,-np.inf,np.inf])"
   ]
  },
  {
   "cell_type": "code",
   "execution_count": 31,
   "metadata": {},
   "outputs": [
    {
     "name": "stdout",
     "output_type": "stream",
     "text": [
      "True if any array element is positive infinity \n",
      "\n",
      "Array: [nan  0. inf 10.] \n",
      " Output: [False False  True False] \n",
      "\n",
      "True if any array element is negative infinity \n",
      "\n",
      "Array: [  0. -inf  inf] \n",
      " Output: [False  True False]\n"
     ]
    }
   ],
   "source": [
    "print('True if any array element is positive infinity \\n')\n",
    "print('Array:',a,'\\n Output:',np.isposinf(a),'\\n')\n",
    "print('True if any array element is negative infinity \\n')\n",
    "print('Array:',b,'\\n Output:',np.isneginf(b))"
   ]
  },
  {
   "cell_type": "code",
   "execution_count": 32,
   "metadata": {},
   "outputs": [
    {
     "name": "stdout",
     "output_type": "stream",
     "text": [
      "True if any element is Nan \n",
      "\n",
      "Array: [nan  0. inf 10.] \n",
      " Output: [ True False False False] \n",
      "\n"
     ]
    }
   ],
   "source": [
    "print('True if any element is Nan \\n')\n",
    "print('Array:',a,'\\n Output:',np.isnan(a),'\\n')"
   ]
  },
  {
   "cell_type": "code",
   "execution_count": 39,
   "metadata": {},
   "outputs": [],
   "source": [
    "c=np.array([0.+0.j,1.+1.j,2.+2.j])"
   ]
  },
  {
   "cell_type": "code",
   "execution_count": 42,
   "metadata": {},
   "outputs": [
    {
     "name": "stdout",
     "output_type": "stream",
     "text": [
      "True if any element is a complex number \n",
      "\n",
      "Array: [0.+0.j 1.+1.j 2.+2.j] Output: [False  True  True] \n",
      "\n",
      "True if any element is a real number \n",
      "\n",
      "Array: [0.+0.j 1.+1.j 2.+2.j] Output: [ True False False]\n"
     ]
    }
   ],
   "source": [
    "print('True if any element is a complex number \\n')\n",
    "print('Array:',c,'Output:',np.iscomplex(c),'\\n')\n",
    "print('True if any element is a real number \\n')\n",
    "print('Array:',c,'Output:',np.isreal(c))"
   ]
  },
  {
   "cell_type": "code",
   "execution_count": 45,
   "metadata": {},
   "outputs": [
    {
     "name": "stdout",
     "output_type": "stream",
     "text": [
      "True if scalar quantity \n",
      "\n",
      "Array: [0.+0.j 1.+1.j 2.+2.j] Output: False \n",
      "\n",
      "If number 3 is scalar.\n",
      " Output: True\n"
     ]
    }
   ],
   "source": [
    "print('True if scalar quantity \\n')\n",
    "print('Array:',c,'Output:',np.isscalar(c),'\\n')\n",
    "print('If number 3 is scalar.\\n','Output:',np.isscalar(3))"
   ]
  },
  {
   "cell_type": "code",
   "execution_count": 47,
   "metadata": {},
   "outputs": [],
   "source": [
    "d=np.array([1e-10,2e10,3e10])\n",
    "e=np.array([1e-10,2e10,3e10])\n",
    "f=np.array([1e-9,2e11,3.5e10])"
   ]
  },
  {
   "cell_type": "code",
   "execution_count": 70,
   "metadata": {},
   "outputs": [
    {
     "name": "stdout",
     "output_type": "stream",
     "text": [
      "To check if two array are elementwise equal with a tolerance\n",
      "\n",
      "Array: [1.e-10 2.e+10 3.e+10] [1.e-10 2.e+10 3.e+10] \n",
      "Output: True \n",
      "\n",
      "Array: [1.e-10 2.e+10 3.e+10] [1.0e-09 2.0e+11 3.5e+10] \n",
      "Output: False\n"
     ]
    }
   ],
   "source": [
    "print('To check if two array are elementwise equal with a tolerance\\n')\n",
    "print('Array:',d,e,'\\nOutput:',np.allclose(d,e),'\\n')\n",
    "print('Array:',d,f,'\\nOutput:',np.allclose(d,f))"
   ]
  },
  {
   "cell_type": "code",
   "execution_count": 69,
   "metadata": {},
   "outputs": [
    {
     "name": "stdout",
     "output_type": "stream",
     "text": [
      "To check if two arrays are equal element wise \n",
      "\n",
      "Array: [1.e-10 2.e+10 3.e+10] [1.e-10 2.e+10 3.e+10] \n",
      "Output: [ True  True  True] \n",
      "\n",
      "Array: [1.e-10 2.e+10 3.e+10] [1.0e-09 2.0e+11 3.5e+10] \n",
      "Output: [False False False]\n"
     ]
    }
   ],
   "source": [
    "print('To check if two arrays are equal element wise \\n')\n",
    "print('Array:',d,e,'\\nOutput:',np.equal(d,e),'\\n')\n",
    "print('Array:',d,f,'\\nOutput:',np.equal(d,f))"
   ]
  },
  {
   "cell_type": "code",
   "execution_count": 57,
   "metadata": {},
   "outputs": [],
   "source": [
    "a=[1,2,3,4,5]\n",
    "b=[2,3,4,1,5]"
   ]
  },
  {
   "cell_type": "code",
   "execution_count": 66,
   "metadata": {},
   "outputs": [
    {
     "name": "stdout",
     "output_type": "stream",
     "text": [
      "np.greater \n",
      "\n",
      "Arrays:\n",
      " [1, 2, 3, 4, 5] \n",
      " [2, 3, 4, 1, 5] \n",
      " Output: [False False False  True False] \n",
      "\n",
      "np.greater_equal \n",
      "\n",
      "Arrays:\n",
      " [1, 2, 3, 4, 5] \n",
      " [2, 3, 4, 1, 5] \n",
      " Output: [False False False  True  True]\n"
     ]
    }
   ],
   "source": [
    "print('np.greater \\n')\n",
    "print('Arrays:\\n',a,'\\n', b,'\\n','Output:',np.greater(a,b),'\\n')\n",
    "print('np.greater_equal \\n')\n",
    "print('Arrays:\\n',a,'\\n', b,'\\n','Output:',np.greater_equal(a,b))"
   ]
  },
  {
   "cell_type": "code",
   "execution_count": 67,
   "metadata": {},
   "outputs": [
    {
     "name": "stdout",
     "output_type": "stream",
     "text": [
      "np.less \n",
      "\n",
      "Arrays:\n",
      " [1, 2, 3, 4, 5] \n",
      " [2, 3, 4, 1, 5] \n",
      " Output: [ True  True  True False False] \n",
      "\n",
      "np.less_equal \n",
      "\n",
      "Arrays:\n",
      " [1, 2, 3, 4, 5] \n",
      " [2, 3, 4, 1, 5] \n",
      " Output: [ True  True  True False  True]\n"
     ]
    }
   ],
   "source": [
    "print('np.less \\n')\n",
    "print('Arrays:\\n',a,'\\n', b,'\\n','Output:',np.less(a,b),'\\n')\n",
    "print('np.less_equal \\n')\n",
    "print('Arrays:\\n',a,'\\n', b,'\\n','Output:',np.less_equal(a,b))"
   ]
  },
  {
   "cell_type": "code",
   "execution_count": 76,
   "metadata": {},
   "outputs": [],
   "source": [
    "array=np.array([1, 7, 13, 105])\n",
    "size=(array.size)*(array.itemsize)"
   ]
  },
  {
   "cell_type": "code",
   "execution_count": 77,
   "metadata": {},
   "outputs": [
    {
     "name": "stdout",
     "output_type": "stream",
     "text": [
      "Array: [  1   7  13 105] \n",
      " Memory taken by the array: 16\n"
     ]
    }
   ],
   "source": [
    "print('Array:',array,'\\n Memory taken by the array:',size)"
   ]
  },
  {
   "cell_type": "code",
   "execution_count": 85,
   "metadata": {},
   "outputs": [
    {
     "name": "stdout",
     "output_type": "stream",
     "text": [
      "The array with ten 0,ten 1 and ten 5 is: \n",
      " [[0. 0. 0. 0. 0. 0. 0. 0. 0. 0.]\n",
      " [1. 1. 1. 1. 1. 1. 1. 1. 1. 1.]\n",
      " [5. 5. 5. 5. 5. 5. 5. 5. 5. 5.]]\n"
     ]
    }
   ],
   "source": [
    "ar=np.array([np.zeros(10),np.ones(10),np.ones(10)*5])\n",
    "print('The array with ten 0,ten 1 and ten 5 is: \\n',ar)"
   ]
  },
  {
   "cell_type": "code",
   "execution_count": 87,
   "metadata": {},
   "outputs": [
    {
     "name": "stdout",
     "output_type": "stream",
     "text": [
      "The array is:\n",
      " [30 32 34 36 38 40 42 44 46 48 50 52 54 56 58 60 62 64 66 68 70]\n"
     ]
    }
   ],
   "source": [
    "int_array=np.arange(30,71,step=2)\n",
    "print('The array is:\\n',int_array)"
   ]
  },
  {
   "cell_type": "code",
   "execution_count": 92,
   "metadata": {},
   "outputs": [
    {
     "name": "stdout",
     "output_type": "stream",
     "text": [
      "The 3*3 identity matrix: \n",
      " [[1. 0. 0.]\n",
      " [0. 1. 0.]\n",
      " [0. 0. 1.]]\n"
     ]
    }
   ],
   "source": [
    "identity_matrix=np.identity(3)\n",
    "print('The 3*3 identity matrix: \\n',identity_matrix)"
   ]
  },
  {
   "cell_type": "code",
   "execution_count": 98,
   "metadata": {},
   "outputs": [
    {
     "name": "stdout",
     "output_type": "stream",
     "text": [
      "0.7821803901338945\n"
     ]
    }
   ],
   "source": [
    "print(np.random.random())"
   ]
  },
  {
   "cell_type": "code",
   "execution_count": 99,
   "metadata": {},
   "outputs": [
    {
     "name": "stdout",
     "output_type": "stream",
     "text": [
      "[ 0.50773572 -1.33889705  1.51692921  0.76879114  0.69981196 -0.27804911\n",
      " -0.70441413 -0.04120465 -0.16766119  2.54348531  1.27639988 -0.88988011\n",
      " -0.56735232 -0.20591875 -0.08799421]\n"
     ]
    }
   ],
   "source": [
    "print(np.random.normal(0,1,15))"
   ]
  },
  {
   "cell_type": "code",
   "execution_count": 102,
   "metadata": {},
   "outputs": [
    {
     "name": "stdout",
     "output_type": "stream",
     "text": [
      "Actual vector: [15 16 17 18 19 20 21 22 23 24 25 26 27 28 29 30 31 32 33 34 35 36 37 38\n",
      " 39 40 41 42 43 44 45 46 47 48 49 50 51 52 53 54] \n",
      "\n",
      "[16 17 18 19 20 21 22 23 24 25 26 27 28 29 30 31 32 33 34 35 36 37 38 39\n",
      " 40 41 42 43 44 45 46 47 48 49 50 51 52 53]\n"
     ]
    }
   ],
   "source": [
    "vector=np.arange(15,55)\n",
    "print('Actual vector:',vector,'\\n')\n",
    "print(vector[1:-1])"
   ]
  },
  {
   "cell_type": "code",
   "execution_count": 128,
   "metadata": {},
   "outputs": [
    {
     "name": "stdout",
     "output_type": "stream",
     "text": [
      "[[10 11 12 13]\n",
      " [14 15 16 17]\n",
      " [18 19 20 21]]\n"
     ]
    }
   ],
   "source": [
    "array=np.arange(10,22).reshape((3,4))\n",
    "print(array)"
   ]
  },
  {
   "cell_type": "code",
   "execution_count": 129,
   "metadata": {},
   "outputs": [
    {
     "name": "stdout",
     "output_type": "stream",
     "text": [
      "Elements of the array:\n",
      "10 11 12 13 14 15 16 17 18 19 20 21 "
     ]
    }
   ],
   "source": [
    "print('Elements of the array:')\n",
    "for x in np.nditer(array):\n",
    "    print(x,'', end='')"
   ]
  },
  {
   "cell_type": "code",
   "execution_count": 114,
   "metadata": {},
   "outputs": [
    {
     "name": "stdout",
     "output_type": "stream",
     "text": [
      "[ 5. 10. 15. 20. 25. 30. 35. 40. 45. 50.]\n"
     ]
    }
   ],
   "source": [
    "a=np.linspace(5,50,10)\n",
    "print(a)"
   ]
  },
  {
   "cell_type": "code",
   "execution_count": 122,
   "metadata": {},
   "outputs": [
    {
     "name": "stdout",
     "output_type": "stream",
     "text": [
      "Array before changing sign:\n",
      " [ 0  1  2  3  4  5  6  7  8  9 10 11 12 13 14 15 16 17 18 19 20]\n",
      "Array after changing sign:\n",
      " [  0   1   2   3   4   5   6   7   8  -9 -10 -11 -12 -13 -14 -15  16  17\n",
      "  18  19  20]\n"
     ]
    }
   ],
   "source": [
    "b=np.arange(21)\n",
    "print('Array before changing sign:\\n',b)\n",
    "b[(b >= 9) & (b <= 15)] *= -1\n",
    "print('Array after changing sign:\\n',b)"
   ]
  },
  {
   "cell_type": "code",
   "execution_count": 124,
   "metadata": {},
   "outputs": [
    {
     "name": "stdout",
     "output_type": "stream",
     "text": [
      "[ 8 10  5  9  6]\n"
     ]
    }
   ],
   "source": [
    "print(np.random.randint(0,11,5))"
   ]
  },
  {
   "cell_type": "code",
   "execution_count": 126,
   "metadata": {},
   "outputs": [
    {
     "name": "stdout",
     "output_type": "stream",
     "text": [
      "[ 6 14 24 36]\n"
     ]
    }
   ],
   "source": [
    "a=np.array([1,2,3,4])\n",
    "b=np.array([6,7,8,9])\n",
    "print(a*b)"
   ]
  },
  {
   "cell_type": "code",
   "execution_count": 134,
   "metadata": {},
   "outputs": [
    {
     "name": "stdout",
     "output_type": "stream",
     "text": [
      "No:of rows: 3 \n",
      " No:of columns: 4\n"
     ]
    }
   ],
   "source": [
    "c=np.array([[1,2,3,4],[2,4,5,6],[3,4,5,6]])\n",
    "print('No:of rows:',c.shape[0],'\\n','No:of columns:',c.shape[1])"
   ]
  },
  {
   "cell_type": "code",
   "execution_count": 138,
   "metadata": {},
   "outputs": [
    {
     "name": "stdout",
     "output_type": "stream",
     "text": [
      "[[1. 1. 1. 1. 1. 1. 1. 1. 1. 1.]\n",
      " [1. 0. 0. 0. 0. 0. 0. 0. 0. 1.]\n",
      " [1. 0. 0. 0. 0. 0. 0. 0. 0. 1.]\n",
      " [1. 0. 0. 0. 0. 0. 0. 0. 0. 1.]\n",
      " [1. 0. 0. 0. 0. 0. 0. 0. 0. 1.]\n",
      " [1. 0. 0. 0. 0. 0. 0. 0. 0. 1.]\n",
      " [1. 0. 0. 0. 0. 0. 0. 0. 0. 1.]\n",
      " [1. 0. 0. 0. 0. 0. 0. 0. 0. 1.]\n",
      " [1. 0. 0. 0. 0. 0. 0. 0. 0. 1.]\n",
      " [1. 1. 1. 1. 1. 1. 1. 1. 1. 1.]]\n"
     ]
    }
   ],
   "source": [
    "x = np.ones((10, 10))\n",
    "x[1:-1, 1:-1] = 0\n",
    "print(x)"
   ]
  },
  {
   "cell_type": "code",
   "execution_count": 139,
   "metadata": {},
   "outputs": [
    {
     "name": "stdout",
     "output_type": "stream",
     "text": [
      "[[1 0 0 0 0]\n",
      " [0 2 0 0 0]\n",
      " [0 0 3 0 0]\n",
      " [0 0 0 4 0]\n",
      " [0 0 0 0 5]]\n"
     ]
    }
   ],
   "source": [
    "print(np.diag([1,2,3,4,5]))"
   ]
  },
  {
   "cell_type": "code",
   "execution_count": 163,
   "metadata": {},
   "outputs": [
    {
     "name": "stdout",
     "output_type": "stream",
     "text": [
      "[[0. 0. 0. 0.]\n",
      " [0. 0. 0. 0.]\n",
      " [0. 0. 0. 0.]\n",
      " [0. 0. 0. 0.]]\n"
     ]
    }
   ],
   "source": [
    "x=np.zeros((4,4))\n",
    "print(x)"
   ]
  },
  {
   "cell_type": "code",
   "execution_count": 164,
   "metadata": {},
   "outputs": [
    {
     "name": "stdout",
     "output_type": "stream",
     "text": [
      "[[0. 1. 0. 1.]\n",
      " [1. 0. 1. 0.]\n",
      " [0. 1. 0. 1.]\n",
      " [1. 0. 1. 0.]]\n"
     ]
    }
   ],
   "source": [
    "x[::2,1::2]=1\n",
    "x[1::2,::2]=1\n",
    "print(x)"
   ]
  },
  {
   "cell_type": "code",
   "execution_count": 168,
   "metadata": {},
   "outputs": [
    {
     "name": "stdout",
     "output_type": "stream",
     "text": [
      "[[[0.98320593 0.78952084 0.59178224]\n",
      "  [0.08467639 0.88949783 0.71923012]\n",
      "  [0.57866713 0.03207176 0.66426552]]\n",
      "\n",
      " [[0.48499788 0.21519851 0.64973563]\n",
      "  [0.4058839  0.40622269 0.3870993 ]\n",
      "  [0.44455744 0.49585699 0.51647588]]\n",
      "\n",
      " [[0.18645045 0.87793173 0.74870721]\n",
      "  [0.77406567 0.57359114 0.13659164]\n",
      "  [0.5812967  0.28114058 0.71368682]]]\n"
     ]
    }
   ],
   "source": [
    "print(np.random.random((3,3,3)))"
   ]
  },
  {
   "cell_type": "code",
   "execution_count": 2,
   "metadata": {},
   "outputs": [],
   "source": [
    "x=np.array([[1,2,3],[4,5,6],[7,8,9],[10,11,12]])"
   ]
  },
  {
   "cell_type": "code",
   "execution_count": 9,
   "metadata": {},
   "outputs": [
    {
     "name": "stdout",
     "output_type": "stream",
     "text": [
      "The array:\n",
      " [[ 1  2  3]\n",
      " [ 4  5  6]\n",
      " [ 7  8  9]\n",
      " [10 11 12]]\n",
      "Sum of all the elements in the array x is: 78\n",
      "Sum of each column in the array x: [22 26 30]\n",
      "Sum of each row in the array x: [ 6 15 24 33]\n"
     ]
    }
   ],
   "source": [
    "print('The array:\\n',x)\n",
    "print('Sum of all the elements in the array x is:',np.sum(x))\n",
    "print('Sum of each column in the array x:',np.sum(x,axis=0))\n",
    "print('Sum of each row in the array x:',np.sum(x,axis=1))"
   ]
  },
  {
   "cell_type": "code",
   "execution_count": 10,
   "metadata": {},
   "outputs": [],
   "source": [
    "y=np.array([[1,2,3],[3,2,1]])"
   ]
  },
  {
   "cell_type": "code",
   "execution_count": 13,
   "metadata": {},
   "outputs": [
    {
     "name": "stdout",
     "output_type": "stream",
     "text": [
      "Array x:\n",
      " [[ 1  2  3]\n",
      " [ 4  5  6]\n",
      " [ 7  8  9]\n",
      " [10 11 12]]\n",
      "Array y:\n",
      " [[1 2 3]\n",
      " [3 2 1]]\n",
      "Inner product of x and y is:\n",
      " [[14 10]\n",
      " [32 28]\n",
      " [50 46]\n",
      " [68 64]]\n"
     ]
    }
   ],
   "source": [
    "print('Array x:\\n',x)\n",
    "print('Array y:\\n',y)\n",
    "print('Inner product of x and y is:\\n',np.inner(x,y))"
   ]
  },
  {
   "cell_type": "code",
   "execution_count": 15,
   "metadata": {},
   "outputs": [
    {
     "name": "stdout",
     "output_type": "stream",
     "text": [
      "Matrix y:\n",
      " [[1 2 3]\n",
      " [3 2 1]]\n",
      "Vector v:\n",
      " [1, 0, 2]\n",
      "After adding vector to each row of matrix y:\n",
      " [[2 2 5]\n",
      " [4 2 3]]\n"
     ]
    }
   ],
   "source": [
    "v=[1,0,2]\n",
    "print('Matrix y:\\n',y)\n",
    "print('Vector v:\\n',v)\n",
    "print('After adding vector to each row of matrix y:\\n',y+v)"
   ]
  },
  {
   "cell_type": "code",
   "execution_count": 16,
   "metadata": {},
   "outputs": [],
   "source": [
    "import os"
   ]
  },
  {
   "cell_type": "code",
   "execution_count": 18,
   "metadata": {},
   "outputs": [
    {
     "name": "stdout",
     "output_type": "stream",
     "text": [
      "Check if 'array_x.npy' exists or not?\n",
      "True\n"
     ]
    }
   ],
   "source": [
    "np.save('array_x.npy', x)\n",
    "print(\"Check if 'array_x.npy' exists or not?\")\n",
    "if os.path.exists('array_x.npy'):\n",
    "    x2 = np.load('array_x.npy')\n",
    "    print(np.array_equal(x, x2))"
   ]
  },
  {
   "cell_type": "code",
   "execution_count": 19,
   "metadata": {},
   "outputs": [
    {
     "name": "stdout",
     "output_type": "stream",
     "text": [
      "Load arrays from the 'temp_arra.npz' file:\n",
      "[[ 1  2  3]\n",
      " [ 4  5  6]\n",
      " [ 7  8  9]\n",
      " [10 11 12]]\n",
      "[[1 2 3]\n",
      " [3 2 1]]\n"
     ]
    }
   ],
   "source": [
    "np.savez('temp_arra.npz', x=x, y=y)\n",
    "print(\"Load arrays from the 'temp_arra.npz' file:\")\n",
    "with np.load('temp_arra.npz') as data:\n",
    "    x2 = data['x']\n",
    "    y2 = data['y']\n",
    "    print(x2)\n",
    "    print(y2)"
   ]
  },
  {
   "cell_type": "code",
   "execution_count": 22,
   "metadata": {},
   "outputs": [
    {
     "name": "stdout",
     "output_type": "stream",
     "text": [
      "Array:\n",
      " [[ 1  2  3]\n",
      " [ 4  5  6]\n",
      " [ 7  8  9]\n",
      " [10 11 12]]\n",
      "\n",
      "\n",
      "After converting the array to text file and loading:\n",
      " [[ 1.  2.  3.]\n",
      " [ 4.  5.  6.]\n",
      " [ 7.  8.  9.]\n",
      " [10. 11. 12.]]\n"
     ]
    }
   ],
   "source": [
    "print(\"Array:\\n\",x)\n",
    "np.savetxt('temp.txt', x)\n",
    "print('\\n')\n",
    "print(\"After converting the array to text file and loading:\\n\",np.loadtxt('temp.txt'))"
   ]
  },
  {
   "cell_type": "code",
   "execution_count": 28,
   "metadata": {},
   "outputs": [
    {
     "name": "stdout",
     "output_type": "stream",
     "text": [
      "Actual array z:\n",
      " [1 2 3 4]\n",
      "Array after converting to string, z_bytes:\n",
      " b'\\x01\\x00\\x00\\x00\\x02\\x00\\x00\\x00\\x03\\x00\\x00\\x00\\x04\\x00\\x00\\x00'\n",
      "Array after loading:\n",
      " [1 2 3 4]\n",
      "If z and z2 are the same? True\n"
     ]
    },
    {
     "name": "stderr",
     "output_type": "stream",
     "text": [
      "C:\\ProgramData\\Anaconda3\\lib\\site-packages\\ipykernel_launcher.py:3: DeprecationWarning: The binary mode of fromstring is deprecated, as it behaves surprisingly on unicode inputs. Use frombuffer instead\n",
      "  This is separate from the ipykernel package so we can avoid doing imports until\n"
     ]
    }
   ],
   "source": [
    "z=np.array([1,2,3,4])\n",
    "z_bytes=z.tostring()\n",
    "z2=np.fromstring(z_bytes,dtype=z.dtype)\n",
    "print('Actual array z:\\n',z)\n",
    "print('Array after converting to string, z_bytes:\\n',z_bytes)\n",
    "print('Array after loading:\\n',z2)\n",
    "print('If z and z2 are the same?',np.array_equal(z,z2))"
   ]
  },
  {
   "cell_type": "code",
   "execution_count": 40,
   "metadata": {},
   "outputs": [
    {
     "name": "stdout",
     "output_type": "stream",
     "text": [
      "First list: [1, 2, 3, 4, 5]\n",
      "Array: [1 2 3 4 5]\n",
      "List from array: [1, 2, 3, 4, 5]\n",
      "If first list and list from array are equal: True\n"
     ]
    }
   ],
   "source": [
    "list1=[1,2,3,4,5]\n",
    "array=np.array(list1)\n",
    "array_list=array.tolist()\n",
    "print('First list:',list1)\n",
    "print('Array:',array)\n",
    "print('List from array:',array_list)\n",
    "print('If first list and list from array are equal:',list1==array_list)"
   ]
  },
  {
   "cell_type": "code",
   "execution_count": 42,
   "metadata": {},
   "outputs": [
    {
     "name": "stdout",
     "output_type": "stream",
     "text": [
      "Plot the points using matplotlib:\n"
     ]
    },
    {
     "data": {
      "image/png": "[encoded data removed]",
      "text/plain": [
       "<Figure size 432x288 with 1 Axes>"
      ]
     },
     "metadata": {
      "needs_background": "light"
     },
     "output_type": "display_data"
    }
   ],
   "source": [
    "import matplotlib.pyplot as plt\n",
    "\n",
    "x = np.arange(0, 2 * np.pi, 0.2)\n",
    "y = np.sin(x)\n",
    "print(\"Plot the points using matplotlib:\")\n",
    "plt.plot(x, y)\n",
    "plt.show()"
   ]
  },
  {
   "cell_type": "code",
   "execution_count": 55,
   "metadata": {},
   "outputs": [
    {
     "name": "stdout",
     "output_type": "stream",
     "text": [
      "Value: 1.0 Datatype: <class 'numpy.float32'> \n",
      "\n",
      "Value: 1.0 Datatype: <class 'float'>\n"
     ]
    }
   ],
   "source": [
    "x=np.float32(1)\n",
    "print('Value:',x,'Datatype:',type(x),'\\n')\n",
    "\n",
    "pyval=x.item()\n",
    "print('Value:',pyval,'Datatype:',type(pyval))"
   ]
  },
  {
   "cell_type": "code",
   "execution_count": 56,
   "metadata": {},
   "outputs": [
    {
     "name": "stdout",
     "output_type": "stream",
     "text": [
      "Value: 1 Datatype: <class 'numpy.uint32'> \n",
      "\n",
      "Value: 1 Datatype: <class 'int'> \n",
      "\n"
     ]
    }
   ],
   "source": [
    "y=np.uint32(1)\n",
    "print('Value:',y,'Datatype:',type(y),'\\n')\n",
    "pyy=y.item()\n",
    "print('Value:',pyy,'Datatype:',type(pyy),'\\n')"
   ]
  },
  {
   "cell_type": "code",
   "execution_count": null,
   "metadata": {},
   "outputs": [],
   "source": []
  }
 ],
 "metadata": {
  "kernelspec": {
   "display_name": "Python 3",
   "language": "python",
   "name": "python3"
  },
  "language_info": {
   "codemirror_mode": {
    "name": "ipython",
    "version": 3
   },
   "file_extension": ".py",
   "mimetype": "text/x-python",
   "name": "python",
   "nbconvert_exporter": "python",
   "pygments_lexer": "ipython3",
   "version": "3.7.6"
  }
 },
 "nbformat": 4,
 "nbformat_minor": 4
}
