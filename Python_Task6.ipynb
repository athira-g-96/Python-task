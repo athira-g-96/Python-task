{
 "cells": [
  {
   "cell_type": "markdown",
   "metadata": {},
   "source": [
    "# PYTHON TASK"
   ]
  },
  {
   "cell_type": "markdown",
   "metadata": {},
   "source": [
    "Import necessary libraries"
   ]
  },
  {
   "cell_type": "code",
   "execution_count": 1,
   "metadata": {},
   "outputs": [],
   "source": [
    "import random\n",
    "import math\n",
    "import string\n",
    "import timeit"
   ]
  },
  {
   "cell_type": "markdown",
   "metadata": {},
   "source": [
    "## 1. Generate 6 digit OTP"
   ]
  },
  {
   "cell_type": "code",
   "execution_count": 2,
   "metadata": {},
   "outputs": [],
   "source": [
    "def genOTP():\n",
    "    OTP = ''\n",
    "    for i in range(6):\n",
    "        OTP += str(random.randint(0,9))\n",
    "    return OTP"
   ]
  },
  {
   "cell_type": "code",
   "execution_count": 3,
   "metadata": {},
   "outputs": [
    {
     "name": "stdout",
     "output_type": "stream",
     "text": [
      "Time taken in sec: 0.10246159999999982\n"
     ]
    }
   ],
   "source": [
    "'''Total time taken by the function to create 6 digit OTP in a loop that runs 1000000 times'''\n",
    "\n",
    "code1='''\n",
    "def genOTP():\n",
    "    OTP = ''\n",
    "    for i in range(6):\n",
    "        OTP += str(random.randint(0,9))\n",
    "    return OTP\n",
    "'''\n",
    "\n",
    "print(\"Time taken in sec:\",timeit.timeit(stmt= code1))"
   ]
  },
  {
   "cell_type": "markdown",
   "metadata": {},
   "source": [
    "## 2. Generate random 5 character password with a combination of alphabets \n",
    "##### (lower and upper case combination )"
   ]
  },
  {
   "cell_type": "code",
   "execution_count": 4,
   "metadata": {},
   "outputs": [],
   "source": [
    "def get_random_string():\n",
    "    letters=string.ascii_letters\n",
    "    result_str = ''.join(random.choice(letters) for i in range(5))\n",
    "    return result_str"
   ]
  },
  {
   "cell_type": "code",
   "execution_count": 5,
   "metadata": {},
   "outputs": [
    {
     "name": "stdout",
     "output_type": "stream",
     "text": [
      "Total time (in sec): 0.10011860000000006\n"
     ]
    }
   ],
   "source": [
    "'''Total time taken by the function to create 5 character password in a loop that runs 1000000 times'''\n",
    "\n",
    "code2='''\n",
    "def get_random_string():\n",
    "    letters=string.ascii_letters\n",
    "    result_str = ''.join(random.choice(letters) for i in range(5))\n",
    "    return result_str\n",
    "'''\n",
    "\n",
    "print(\"Total time (in sec):\",timeit.timeit(stmt=code2))"
   ]
  },
  {
   "cell_type": "markdown",
   "metadata": {},
   "source": [
    "## 3. Generate 10 character password \n",
    "#### ( atleast a digit, a special character, 2 uppercase characters)"
   ]
  },
  {
   "cell_type": "code",
   "execution_count": 6,
   "metadata": {},
   "outputs": [],
   "source": [
    "def pass_gen():\n",
    "    password_char=string.ascii_letters+string.digits+string.punctuation\n",
    "    passwrd = ''.join(random.choice(password_char[26:52]) for i in range(2))+''.join(random.choice(password_char[52:62]))+''.join(random.choice(password_char[62:94]))+''.join(random.choice(password_char) for i in range(6))\n",
    "    pass_list= random.sample(passwrd,len(passwrd))\n",
    "    pass_word=''.join(pass_list)\n",
    "    return pass_word"
   ]
  },
  {
   "cell_type": "code",
   "execution_count": 7,
   "metadata": {},
   "outputs": [
    {
     "name": "stdout",
     "output_type": "stream",
     "text": [
      "Total time taken (in sec):  0.10698799999999942\n"
     ]
    }
   ],
   "source": [
    "'''Total time taken by the function to create 10 character password in a loop that runs 1000000 times'''\n",
    "\n",
    "code3='''\n",
    "def pass_gen():\n",
    "    password_char=string.ascii_letters+string.digits+string.punctuation\n",
    "    passwrd = ''.join(random.choice(password_char[26:52]) for i in range(2))+''.join(random.choice(password_char[52:62]))+''.join(random.choice(password_char[62:94]))+''.join(random.choice(password_char) for i in range(6))\n",
    "    pass_list= random.sample(passwrd,len(passwrd))\n",
    "    pass_word=''.join(pass_list)\n",
    "    return pass_word\n",
    "'''\n",
    "\n",
    "print(\"Total time taken (in sec): \",timeit.timeit(stmt=code3))"
   ]
  },
  {
   "cell_type": "code",
   "execution_count": null,
   "metadata": {},
   "outputs": [],
   "source": []
  }
 ],
 "metadata": {
  "kernelspec": {
   "display_name": "Python 3",
   "language": "python",
   "name": "python3"
  },
  "language_info": {
   "codemirror_mode": {
    "name": "ipython",
    "version": 3
   },
   "file_extension": ".py",
   "mimetype": "text/x-python",
   "name": "python",
   "nbconvert_exporter": "python",
   "pygments_lexer": "ipython3",
   "version": "3.7.6"
  }
 },
 "nbformat": 4,
 "nbformat_minor": 4
}
