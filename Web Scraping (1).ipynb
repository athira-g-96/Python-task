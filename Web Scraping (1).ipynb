{
 "cells": [
  {
   "cell_type": "markdown",
   "metadata": {},
   "source": [
    "# Data Scraping using Beautiful Soup and API"
   ]
  },
  {
   "cell_type": "code",
   "execution_count": 1,
   "metadata": {},
   "outputs": [],
   "source": [
    "from bs4 import BeautifulSoup\n",
    "import requests\n",
    "import random\n",
    "import pandas as pd\n",
    "import json "
   ]
  },
  {
   "cell_type": "markdown",
   "metadata": {},
   "source": [
    "###  To get summary and release year of some of my favourite movies"
   ]
  },
  {
   "cell_type": "code",
   "execution_count": 2,
   "metadata": {},
   "outputs": [],
   "source": [
    "url='http://www.imdb.com/chart/top'\n",
    "fav_movies=['Soul','Inside Out','Drishyam',\n",
    "            'Jurassic Park','The Lion King',\n",
    "            'The Prestige','Inception',\n",
    "            'Interstellar','Shutter Island','Coco']"
   ]
  },
  {
   "cell_type": "code",
   "execution_count": 3,
   "metadata": {},
   "outputs": [],
   "source": [
    "def get_imd_movies(url):\n",
    "    '''input: imdb url to get names and details of the listed movies\n",
    "    output: list with details of the movie like movie name, release year'''\n",
    "    \n",
    "    page = requests.get(url)\n",
    "    soup = BeautifulSoup(page.text,\n",
    "                         'html.parser')\n",
    "    movies = soup.find_all(\"td\", \n",
    "                           class_=\"titleColumn\")\n",
    "    print(type(movies))\n",
    "    return movies\n"
   ]
  },
  {
   "cell_type": "code",
   "execution_count": 59,
   "metadata": {},
   "outputs": [],
   "source": [
    "def get_imd_movie_info(movie):\n",
    "    '''input: movie name \n",
    "    output: title,release year and url of the particular movie'''\n",
    "    \n",
    "    movie_title = movie.a.contents[0]\n",
    "    movie_year = movie.span.contents[0]\n",
    "    movie_url = 'http://www.imdb.com' + movie.a['href']\n",
    "    return movie_title, movie_year, movie_url"
   ]
  },
  {
   "cell_type": "code",
   "execution_count": 60,
   "metadata": {},
   "outputs": [],
   "source": [
    "def get_imd_summary(url):\n",
    "    '''input: url of the movie\n",
    "    output: short summary of the movie from the movie page'''\n",
    "    \n",
    "    movie_page = requests.get(url)\n",
    "    soup = BeautifulSoup(movie_page.text,\n",
    "                         'html.parser')\n",
    "    return soup.find(\"div\", \n",
    "                     class_=\"summary_text\").contents[0].strip()\n"
   ]
  },
  {
   "cell_type": "code",
   "execution_count": 61,
   "metadata": {},
   "outputs": [
    {
     "name": "stdout",
     "output_type": "stream",
     "text": [
      "Inception (2010) \n",
      "Summary:\n",
      " A thief who steals corporate secrets through the use of dream-sharing technology is given the inverse task of planting an idea into the mind of a C.E.O. \n",
      "\n",
      "\n",
      "Interstellar (2014) \n",
      "Summary:\n",
      " A team of explorers travel through a wormhole in space in an attempt to ensure humanity's survival. \n",
      "\n",
      "\n",
      "The Lion King (1994) \n",
      "Summary:\n",
      " Lion prince Simba and his father are targeted by his bitter uncle, who wants to ascend the throne himself. \n",
      "\n",
      "\n",
      "The Prestige (2006) \n",
      "Summary:\n",
      " After a tragic accident, two stage magicians engage in a battle to create the ultimate illusion while sacrificing everything they have to outwit each other. \n",
      "\n",
      "\n",
      "Coco (2017) \n",
      "Summary:\n",
      " Aspiring musician Miguel, confronted with his family's ancestral ban on music, enters the Land of the Dead to find his great-great-grandfather, a legendary singer. \n",
      "\n",
      "\n",
      "Shutter Island (2010) \n",
      "Summary:\n",
      " In 1954, a U.S. Marshal investigates the disappearance of a murderer who escaped from a hospital for the criminally insane. \n",
      "\n",
      "\n",
      "Inside Out (2015) \n",
      "Summary:\n",
      " After young Riley is uprooted from her Midwest life and moved to San Francisco, her emotions - Joy, Fear, Anger, Disgust and Sadness - conflict on how best to navigate a new city, house, and school. \n",
      "\n",
      "\n",
      "Jurassic Park (1993) \n",
      "Summary:\n",
      " A pragmatic paleontologist visiting an almost complete theme park is tasked with protecting a couple of kids after a power failure causes the park's cloned dinosaurs to run loose. \n",
      "\n",
      "\n",
      "Soul (2020) \n",
      "Summary:\n",
      " A musician who has lost his passion for music is transported out of his body and must find his way back with the help of an infant soul learning about herself. \n",
      "\n",
      "\n",
      "Drishyam (2015) \n",
      "Summary:\n",
      " Desperate measures are taken by a man who tries to save his family from the dark side of the law, after they commit an unexpected crime. \n",
      "\n",
      "\n"
     ]
    }
   ],
   "source": [
    "title=[]\n",
    "date=[]\n",
    "synopsis=[]\n",
    "\n",
    "for movie in get_imd_movies(url):\n",
    "    movie_title, movie_year, movie_url=get_imd_movie_info(movie) # get movie title, release year and url of movie page\n",
    "    \n",
    "    if movie_title in fav_movies:\n",
    "        \n",
    "        summary=get_imd_summary(movie_url)\n",
    "        title.append(movie_title)\n",
    "        date.append(movie_year)\n",
    "        synopsis.append(summary)\n",
    "        \n",
    "        print(movie_title,movie_year,'\\nSummary:\\n',summary,'\\n\\n' )\n",
    "   "
   ]
  },
  {
   "cell_type": "code",
   "execution_count": 29,
   "metadata": {},
   "outputs": [
    {
     "data": {
      "text/html": [
       "<div>\n",
       "<style scoped>\n",
       "    .dataframe tbody tr th:only-of-type {\n",
       "        vertical-align: middle;\n",
       "    }\n",
       "\n",
       "    .dataframe tbody tr th {\n",
       "        vertical-align: top;\n",
       "    }\n",
       "\n",
       "    .dataframe thead th {\n",
       "        text-align: right;\n",
       "    }\n",
       "</style>\n",
       "<table border=\"1\" class=\"dataframe\">\n",
       "  <thead>\n",
       "    <tr style=\"text-align: right;\">\n",
       "      <th></th>\n",
       "      <th>Movie</th>\n",
       "      <th>Release_year</th>\n",
       "      <th>Synopsis</th>\n",
       "    </tr>\n",
       "  </thead>\n",
       "  <tbody>\n",
       "    <tr>\n",
       "      <th>0</th>\n",
       "      <td>Inception</td>\n",
       "      <td>(2010)</td>\n",
       "      <td>A thief who steals corporate secrets through t...</td>\n",
       "    </tr>\n",
       "    <tr>\n",
       "      <th>1</th>\n",
       "      <td>Interstellar</td>\n",
       "      <td>(2014)</td>\n",
       "      <td>A team of explorers travel through a wormhole ...</td>\n",
       "    </tr>\n",
       "    <tr>\n",
       "      <th>2</th>\n",
       "      <td>The Lion King</td>\n",
       "      <td>(1994)</td>\n",
       "      <td>Lion prince Simba and his father are targeted ...</td>\n",
       "    </tr>\n",
       "    <tr>\n",
       "      <th>3</th>\n",
       "      <td>The Prestige</td>\n",
       "      <td>(2006)</td>\n",
       "      <td>After a tragic accident, two stage magicians e...</td>\n",
       "    </tr>\n",
       "    <tr>\n",
       "      <th>4</th>\n",
       "      <td>Coco</td>\n",
       "      <td>(2017)</td>\n",
       "      <td>Aspiring musician Miguel, confronted with his ...</td>\n",
       "    </tr>\n",
       "  </tbody>\n",
       "</table>\n",
       "</div>"
      ],
      "text/plain": [
       "           Movie Release_year  \\\n",
       "0      Inception       (2010)   \n",
       "1   Interstellar       (2014)   \n",
       "2  The Lion King       (1994)   \n",
       "3   The Prestige       (2006)   \n",
       "4           Coco       (2017)   \n",
       "\n",
       "                                            Synopsis  \n",
       "0  A thief who steals corporate secrets through t...  \n",
       "1  A team of explorers travel through a wormhole ...  \n",
       "2  Lion prince Simba and his father are targeted ...  \n",
       "3  After a tragic accident, two stage magicians e...  \n",
       "4  Aspiring musician Miguel, confronted with his ...  "
      ]
     },
     "execution_count": 29,
     "metadata": {},
     "output_type": "execute_result"
    }
   ],
   "source": [
    "'''Generate a dataframe from the sccraped data'''\n",
    "\n",
    "data={'Movie':title,'Release_year':date,'Synopsis':synopsis}\n",
    "df = pd.DataFrame(data, columns = ['Movie','Release_year','Synopsis'])\n",
    "df.head()\n"
   ]
  },
  {
   "cell_type": "markdown",
   "metadata": {},
   "source": [
    "### Get live weather of three towns: Tokyo, Osaka, Sapporo"
   ]
  },
  {
   "cell_type": "code",
   "execution_count": 31,
   "metadata": {},
   "outputs": [],
   "source": [
    "api_key='9c70a373bfbe5a47c4f2789493bd5416'"
   ]
  },
  {
   "cell_type": "code",
   "execution_count": 44,
   "metadata": {},
   "outputs": [
    {
     "name": "stdout",
     "output_type": "stream",
     "text": [
      "\n",
      "City: Tokyo \n",
      "Temperature(Kelvin): 278.65 \n",
      "Weather: few clouds\n",
      "\n",
      "City: Osaka \n",
      "Temperature(Kelvin): 275.26 \n",
      "Weather: clear sky\n",
      "\n",
      "City: Sapporo \n",
      "Temperature(Kelvin): 266.48 \n",
      "Weather: broken clouds\n"
     ]
    }
   ],
   "source": [
    "base_url = \"http://api.openweathermap.org/data/2.5/weather?\"\n",
    "cities=['Tokyo','Osaka','Sapporo'] \n",
    "\n",
    "for city in cities: \n",
    "    url = base_url + \"appid=\" + api_key + \"&q=\" + city \n",
    "    response = requests.get(url) \n",
    "    x = response.json() \n",
    "    \n",
    "    if x[\"cod\"] != \"404\": \n",
    "        y = x[\"main\"] \n",
    "        current_temperature = y[\"temp\"] \n",
    "        z = x[\"weather\"] \n",
    "        weather= z[0][\"description\"]  \n",
    "        \n",
    "        print(\"\\nCity:\",city,\"\\nTemperature(Kelvin):\",str(current_temperature),\n",
    "              \"\\nWeather:\",str(weather))\n",
    "    else:\n",
    "        print(\" \\nCity Not Found \") "
   ]
  },
  {
   "cell_type": "markdown",
   "metadata": {},
   "source": [
    "### To get a list of all the places that had an earthquake with a magnitude greater than 5"
   ]
  },
  {
   "cell_type": "code",
   "execution_count": 54,
   "metadata": {},
   "outputs": [
    {
     "name": "stdout",
     "output_type": "stream",
     "text": [
      "Number of earthquakes which had a magnitude greater than 5 in past 200 days:\n",
      " 23\n"
     ]
    }
   ],
   "source": [
    "page = requests.get('https://earthquakes.bgs.ac.uk/earthquakes/recent_world_events.html') \n",
    "# the page had all the cities that had a greater magnitude earthquake within 200 days listed\n",
    "\n",
    "soup = BeautifulSoup(page.text, 'html.parser')\n",
    "quakes_5= soup.find_all(\"tr\")[1:]  \n",
    "\n",
    "print('Number of earthquakes which had a magnitude greater than 5 in past 200 days:\\n',len(quakes_5))"
   ]
  },
  {
   "cell_type": "code",
   "execution_count": 53,
   "metadata": {},
   "outputs": [
    {
     "name": "stdout",
     "output_type": "stream",
     "text": [
      "Area:  SAN JUAN,ARGENTINA , \n",
      " Magnitude:  6.4 \n",
      "Area:  SULAWESI,INDONSIA , \n",
      " Magnitude:  6.2 \n",
      "Area:  NORTHERN MONGOLIA , \n",
      " Magnitude:  6.7 \n",
      "Area:  CROATIA , \n",
      " Magnitude:  6.4 \n",
      "Area:  LOS RIOS,CHILE , \n",
      " Magnitude:  6.7 \n",
      "Area:  EASTERN AEGEAN SEA , \n",
      " Magnitude:  7.0 \n",
      "Area:  SWITZERLAND , \n",
      " Magnitude:  4.6 \n",
      "Area:  ALASKA PENINSULA , \n",
      " Magnitude:  7.6 \n",
      "Area:  TONGA ISLANDS REGION , \n",
      " Magnitude:  6.5 \n",
      "Area:  MID-ATLANTIC RIDGE , \n",
      " Magnitude:  6.9 \n",
      "Area:  MID-ATLANTIC RIDGE , \n",
      " Magnitude:  6.6 \n",
      "Area:  ATACAMA,CHILE , \n",
      " Magnitude:  6.5 \n",
      "Area:  ATACAMA,CHILE , \n",
      " Magnitude:  6.3 \n",
      "Area:  ATACAMA,CHILE , \n",
      " Magnitude:  6.8 \n",
      "Area:  MID-ATLANTIC RIDGE , \n",
      " Magnitude:  6.5 \n",
      "Area:  BANDA SEA , \n",
      " Magnitude:  6.9 \n",
      "Area:  SUMATRA,INDONESIA , \n",
      " Magnitude:  6.9 \n",
      "Area:  SUMATRA,INDONESIA , \n",
      " Magnitude:  6.8 \n",
      "Area:  SAMAR,PHILIPPINES , \n",
      " Magnitude:  6.6 \n",
      "Area:  VANUATU , \n",
      " Magnitude:  6.5 \n",
      "Area:  ALASKA PENINSULA , \n",
      " Magnitude:  7.8 \n",
      "Area:  PAPUA NEW GUINEA , \n",
      " Magnitude:  7.0 \n",
      "Area:  JAVA SEA , \n",
      " Magnitude:  6.7 \n"
     ]
    }
   ],
   "source": [
    "for tr in soup.find_all('tr')[1:]:\n",
    "    tds = tr.find_all('td')\n",
    "    print (\"Area: %s, \\n Magnitude: %s\" % \\\n",
    "          (tds[7].text, tds[5].text))"
   ]
  },
  {
   "cell_type": "code",
   "execution_count": null,
   "metadata": {},
   "outputs": [],
   "source": []
  }
 ],
 "metadata": {
  "kernelspec": {
   "display_name": "Python 3",
   "language": "python",
   "name": "python3"
  },
  "language_info": {
   "codemirror_mode": {
    "name": "ipython",
    "version": 3
   },
   "file_extension": ".py",
   "mimetype": "text/x-python",
   "name": "python",
   "nbconvert_exporter": "python",
   "pygments_lexer": "ipython3",
   "version": "3.7.6"
  }
 },
 "nbformat": 4,
 "nbformat_minor": 4
}
