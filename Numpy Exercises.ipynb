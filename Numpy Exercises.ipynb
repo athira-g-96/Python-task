{
 "cells": [
  {
   "cell_type": "code",
   "execution_count": 1,
   "metadata": {},
   "outputs": [],
   "source": [
    "import numpy as np"
   ]
  },
  {
   "cell_type": "code",
   "execution_count": 37,
   "metadata": {},
   "outputs": [
    {
     "name": "stdout",
     "output_type": "stream",
     "text": [
      "Flattened array:\n",
      " [0 1 2 3]\n",
      "Min value in array: 0\n",
      "Max value in array: 3\n"
     ]
    }
   ],
   "source": [
    "a=np.array([[0,1],[2,3]])\n",
    "a1=a.flatten()\n",
    "print('Flattened array:\\n',a1)\n",
    "print('Min value in array:',np.min(a1))\n",
    "print('Max value in array:',np.max(a1))"
   ]
  },
  {
   "cell_type": "code",
   "execution_count": 39,
   "metadata": {},
   "outputs": [
    {
     "name": "stdout",
     "output_type": "stream",
     "text": [
      "Array:\n",
      " [[0 1]\n",
      " [2 3]]\n",
      "Min value in second axis: [0 2]\n",
      "Max value in second axis: [1 3]\n"
     ]
    }
   ],
   "source": [
    "print(\"Array:\\n\",a)\n",
    "print('Min value in second axis:',np.min(a,axis=1))\n",
    "print('Max value in second axis:',np.max(a,axis=1))"
   ]
  },
  {
   "cell_type": "code",
   "execution_count": 5,
   "metadata": {},
   "outputs": [
    {
     "name": "stdout",
     "output_type": "stream",
     "text": [
      "Min value in second axis: [0 6]\n",
      "Max value in second axis: [ 5 11]\n",
      "Difference between the max and min of second axis: [5 5]\n"
     ]
    }
   ],
   "source": [
    "b=np.array([[0,1,2,3,4,5],[6,7,8,9,10,11]])\n",
    "min1=np.min(b,axis=1)\n",
    "max1=np.max(b,axis=1)\n",
    "\n",
    "print('Min value in second axis:',min1)\n",
    "print('Max value in second axis:',max1)\n",
    "print('Difference between the max and min:',\n",
    "      np.subtract(max1,min1))"
   ]
  },
  {
   "cell_type": "code",
   "execution_count": 19,
   "metadata": {},
   "outputs": [
    {
     "name": "stdout",
     "output_type": "stream",
     "text": [
      "[3.2 8.2]\n"
     ]
    }
   ],
   "source": [
    "c=np.array([[0,1,2,3,4],[5,6,7,8,9]])\n",
    "print(np.percentile(c,80,axis=1))"
   ]
  },
  {
   "cell_type": "code",
   "execution_count": 32,
   "metadata": {},
   "outputs": [
    {
     "name": "stdout",
     "output_type": "stream",
     "text": [
      "Original array:\n",
      " [[ 1  2  3  4  5]\n",
      " [ 1  4  9 16 25]] \n",
      "\n",
      "Flattened array: [ 1  2  3  4  5  1  4  9 16 25]\n",
      "Median: 4.0\n"
     ]
    }
   ],
   "source": [
    "ar1=np.array([1,2,3,4,5])\n",
    "ar2=np.power(ar1,2)\n",
    "ar=np.array((ar1,ar2))\n",
    "arf=ar.flatten()\n",
    "\n",
    "print('Original array:\\n',ar,'\\n')\n",
    "print('Flattened array:',arf)\n",
    "print('Median:',np.median(ar))"
   ]
  },
  {
   "cell_type": "code",
   "execution_count": 34,
   "metadata": {},
   "outputs": [
    {
     "name": "stdout",
     "output_type": "stream",
     "text": [
      "Original Array:\n",
      " [[ 0  1  2  3  4  5]\n",
      " [ 6  7  8  9 10 11]]\n",
      "Median: 5.5\n"
     ]
    }
   ],
   "source": [
    "a=np.array([[0,1,2,3,4,5],[6,7,8,9,10,11]])\n",
    "af=a.flatten()\n",
    "\n",
    "print('Original Array:\\n',a)\n",
    "print('Median:',np.median(af))"
   ]
  },
  {
   "cell_type": "code",
   "execution_count": 43,
   "metadata": {},
   "outputs": [
    {
     "name": "stdout",
     "output_type": "stream",
     "text": [
      "Weighted average of the array: 2.6666666666666665\n"
     ]
    }
   ],
   "source": [
    "b=np.array([1,2,3,4])\n",
    "print('Weighted average of the array:',\n",
    "      np.average(b,weights=np.array([1,1,1,1.5])))"
   ]
  },
  {
   "cell_type": "code",
   "execution_count": 54,
   "metadata": {},
   "outputs": [
    {
     "name": "stdout",
     "output_type": "stream",
     "text": [
      "[2.5 8.5]\n",
      "[1.70782513 1.70782513]\n",
      "[2.91666667 2.91666667]\n"
     ]
    }
   ],
   "source": [
    "c=np.array([[0,1,2,3,4,5],[6,7,8,9,10,11]])\n",
    "\n",
    "print(np.mean(c,axis=1))\n",
    "print(np.std(c,axis=1))\n",
    "print(np.var(c,axis=1))"
   ]
  },
  {
   "cell_type": "code",
   "execution_count": 55,
   "metadata": {},
   "outputs": [
    {
     "name": "stdout",
     "output_type": "stream",
     "text": [
      "Mean: 2.5\n",
      "Standard deviation: 1.707825127659933\n",
      "Variance: 2.9166666666666665\n"
     ]
    }
   ],
   "source": [
    "c=np.array([0,1,2,3,4,5])\n",
    "print('Mean:',np.mean(c))\n",
    "print('Standard deviation:',np.std(c))\n",
    "print('Variance:',np.var(c))"
   ]
  },
  {
   "cell_type": "code",
   "execution_count": 57,
   "metadata": {},
   "outputs": [
    {
     "name": "stdout",
     "output_type": "stream",
     "text": [
      "First matrix:\n",
      " [0 1 2] \n",
      " Second matrix:\n",
      " [2 1 0]\n",
      "Covariance matrix of the two given matrices:\n",
      " [[ 1. -1.]\n",
      " [-1.  1.]]\n"
     ]
    }
   ],
   "source": [
    "ar1=np.array([0,1,2])\n",
    "ar2=np.array([2,1,0])\n",
    "print('First matrix:\\n',ar1,'\\n Second matrix:\\n',ar2)\n",
    "print('Covariance matrix of the two given matrices:\\n',\n",
    "      np.cov(ar1,ar2))"
   ]
  },
  {
   "cell_type": "code",
   "execution_count": 16,
   "metadata": {},
   "outputs": [
    {
     "name": "stdout",
     "output_type": "stream",
     "text": [
      "Correlation using np.correlate:\n",
      " [ 0  5 19 14  6] \n",
      "\n",
      "Covariance using np.cov():\n",
      " [[2.33333333 2.16666667]\n",
      " [2.16666667 2.33333333]]\n"
     ]
    }
   ],
   "source": [
    "a=np.array([0,1,3])\n",
    "b=np.array([2,4,5])\n",
    "print(\"Correlation using np.correlate:\\n\",\n",
    "      np.correlate(a,b,\"full\"),\"\\n\")\n",
    "print(\"Covariance using np.cov():\\n\",np.cov(a,b))"
   ]
  },
  {
   "cell_type": "code",
   "execution_count": 18,
   "metadata": {},
   "outputs": [
    {
     "name": "stdout",
     "output_type": "stream",
     "text": [
      "Array 1: [0 1 3]\n",
      "Array 2: [2 4 5]\n",
      "Pearson product moment correlation coefficient of the arrays:\n",
      " [[1.         0.92857143]\n",
      " [0.92857143 1.        ]]\n"
     ]
    }
   ],
   "source": [
    "print('Array 1:',a)\n",
    "print('Array 2:',b)\n",
    "print('Pearson product moment correlation coefficient of the arrays:\\n',\n",
    "      np.corrcoef(a,b))"
   ]
  },
  {
   "cell_type": "code",
   "execution_count": 22,
   "metadata": {},
   "outputs": [
    {
     "name": "stdout",
     "output_type": "stream",
     "text": [
      "Array: [  1.   2.   3.  nan  inf -inf] \n",
      "\n",
      "If the values in the array is FINITE:\n",
      " [ True  True  True False False False] \n",
      "\n",
      "If the values in the array has POSITIVE infinity:\n",
      " [False False False False  True False] \n",
      "\n",
      "If the values in the array has NEGATIVE infinity:\n",
      " [False False False False False  True] \n",
      "\n",
      "If the values in the array contains NAN:\n",
      " [False False False  True False False]\n"
     ]
    }
   ],
   "source": [
    "a=np.array([1,2,3,np.NaN,np.inf,-np.inf])\n",
    "print(\"Array:\",a,'\\n')\n",
    "print(\"If the values in the array is FINITE:\\n\",\n",
    "      np.isfinite(a),'\\n')\n",
    "print(\"If the values in the array has POSITIVE infinity:\\n\",\n",
    "      np.isposinf(a),'\\n')\n",
    "print(\"If the values in the array has NEGATIVE infinity:\\n\",\n",
    "      np.isneginf(a),'\\n')\n",
    "print(\"If the values in the array contains NAN:\\n\",\n",
    "      np.isnan(a))\n"
   ]
  },
  {
   "cell_type": "code",
   "execution_count": 18,
   "metadata": {},
   "outputs": [
    {
     "name": "stdout",
     "output_type": "stream",
     "text": [
      "If array contains NAT values: [ True False False False False  True False]\n"
     ]
    }
   ],
   "source": [
    "print(\"If array contains NAT values:\",\n",
    "      np.isnat(np.array(['nat', 1, 2, 3, 4, 'nat', 5], \n",
    "                        dtype='datetime64[D]')))"
   ]
  },
  {
   "cell_type": "code",
   "execution_count": 31,
   "metadata": {},
   "outputs": [
    {
     "name": "stdout",
     "output_type": "stream",
     "text": [
      "Original Array:\n",
      " [[0 1 2]\n",
      " [3 4 5]\n",
      " [6 7 8]] \n",
      "\n",
      "Flattend array: [0 1 2 3 4 5 6 7 8] \n",
      "\n",
      "Weighted average of flatten array: 3.5714285714285716\n",
      "Weighted average of specified axis: [1.2 4.2 7.2]\n"
     ]
    }
   ],
   "source": [
    "b=np.array([[0,1,2],[3,4,5],[6,7,8]])\n",
    "b1=b.flatten()\n",
    "print(\"Original Array:\\n\",b,'\\n')\n",
    "print(\"Flattend array:\",b1,'\\n')\n",
    "print(\"Weighted average of flatten array:\",\n",
    "      np.average(b1,weights=np.array([0.5,1,3,1.5,1,1,1,1,0.5])))\n",
    "print(\"Weighted average of specified axis:\",\n",
    "      np.average(b,axis=1,weights=[1/4,1/2,1/2]))"
   ]
  },
  {
   "cell_type": "code",
   "execution_count": 32,
   "metadata": {},
   "outputs": [
    {
     "name": "stdout",
     "output_type": "stream",
     "text": [
      "Array: [0 1 6 1 4 1 2 2 7]\n",
      "Bincount: [1 3 2 0 1 0 1 1]\n"
     ]
    }
   ],
   "source": [
    "c=np.array([0, 1, 6, 1, 4, 1, 2, 2, 7])\n",
    "\n",
    "print(\"Array:\",c)\n",
    "print(\"Bincount:\",np.bincount(c))"
   ]
  },
  {
   "cell_type": "code",
   "execution_count": 34,
   "metadata": {},
   "outputs": [],
   "source": [
    "import matplotlib.pyplot as plt"
   ]
  },
  {
   "cell_type": "code",
   "execution_count": 36,
   "metadata": {},
   "outputs": [
    {
     "name": "stdout",
     "output_type": "stream",
     "text": [
      "nums:  [0.5 0.7 1.  1.2 1.3 2.1]\n",
      "bins:  [0 1 2 3]\n",
      "Output with values and bins: (array([2, 3, 1], dtype=int64), array([0, 1, 2, 3]))\n"
     ]
    },
    {
     "data": {
      "image/png": "[encoded data removed]",
      "text/plain": [
       "<Figure size 432x288 with 1 Axes>"
      ]
     },
     "metadata": {
      "needs_background": "light"
     },
     "output_type": "display_data"
    }
   ],
   "source": [
    "nums = np.array([0.5, 0.7, 1.0, 1.2, 1.3, 2.1])\n",
    "bins = np.array([0, 1, 2, 3])\n",
    "\n",
    "print(\"nums: \",nums)\n",
    "print(\"bins: \",bins)\n",
    "\n",
    "print(\"Output with values and bins:\", np.histogram(nums, bins))\n",
    "\n",
    "plt.hist(nums, bins=bins)\n",
    "plt.show()"
   ]
  },
  {
   "cell_type": "code",
   "execution_count": null,
   "metadata": {},
   "outputs": [],
   "source": []
  }
 ],
 "metadata": {
  "kernelspec": {
   "display_name": "Python 3",
   "language": "python",
   "name": "python3"
  },
  "language_info": {
   "codemirror_mode": {
    "name": "ipython",
    "version": 3
   },
   "file_extension": ".py",
   "mimetype": "text/x-python",
   "name": "python",
   "nbconvert_exporter": "python",
   "pygments_lexer": "ipython3",
   "version": "3.7.6"
  }
 },
 "nbformat": 4,
 "nbformat_minor": 4
}
