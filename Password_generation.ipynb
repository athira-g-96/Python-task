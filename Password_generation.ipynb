{
 "cells": [
  {
   "cell_type": "markdown",
   "metadata": {},
   "source": [
    "# PYTHON TASK"
   ]
  },
  {
   "cell_type": "markdown",
   "metadata": {},
   "source": [
       ]
  },
  {
   "cell_type": "code",
   "execution_count": 1,
   "metadata": {},
   "outputs": [],
   "source": [
    "import random\n",
    "import string\n",
    "import timeit"
   ]
  },
  {
   "cell_type": "markdown",
   "metadata": {},
   "source": [
    "## 1. Generate 6 digit OTP"
   ]
  },
  {
   "cell_type": "code",
   "execution_count": 2,
   "metadata": {},
   "outputs": [],
   "source": [
    "def genOTP():\n",
    "    OTP = ''\n",
    "    for i in range(6):\n",
    "        OTP += str(random.randint(0,9))\n",
    "    return OTP"
   ]
  },
  {
   "cell_type": "code",
   "execution_count": 12,
   "metadata": {},
   "outputs": [
    {
     "name": "stdout",
     "output_type": "stream",
     "text": [
      "Time taken in sec: 0.04316740000000152\n"
     ]
    }
   ],
   "source": [
    "'''Total time taken by the function to create 6 digit OTP in a loop that runs 1000000 times'''\n",
    "\n",
    "code1='''\n",
    "def genOTP():\n",
    "    OTP = ''\n",
    "    for i in range(6):\n",
    "        OTP += str(random.randint(0,9))\n",
    "    return OTP\n",
    "'''\n",
    "\n",
    "print(\"Time taken in sec:\",timeit.timeit(stmt= code1))"
   ]
  },
  {
   "cell_type": "code",
   "execution_count": 4,
   "metadata": {},
   "outputs": [
    {
     "name": "stdout",
     "output_type": "stream",
     "text": [
      "List of 10 random OTP generated:\n",
      " ['927416', '360569', '231207', '868271', '380675', '689247', '252019', '476774', '067589', '265872']\n"
     ]
    }
   ],
   "source": [
    "list_otp=[]\n",
    "for i in range(10):\n",
    "    list_otp.append(genOTP())\n",
    "print('List of 10 random OTP generated:\\n',list_otp)"
   ]
  },
  {
   "cell_type": "markdown",
   "metadata": {},
   "source": [
    "## 2. Generate random 5 character password with a combination of alphabets \n",
    "##### (lower and upper case combination )"
   ]
  },
  {
   "cell_type": "code",
   "execution_count": 5,
   "metadata": {},
   "outputs": [],
   "source": [
    "def random_password():\n",
    "    letters=string.ascii_letters\n",
    "    result_str = ''.join(random.choice(letters) for i in range(5))\n",
    "    return result_str"
   ]
  },
  {
   "cell_type": "code",
   "execution_count": 6,
   "metadata": {},
   "outputs": [
    {
     "name": "stdout",
     "output_type": "stream",
     "text": [
      "List of 10 random password generated:\n",
      " ['LmpcL', 'vNpQu', 'Bnbmg', 'HQhsB', 'gohYT', 'xTkEI', 'oNSnC', 'cUFLj', 'SYgYu', 'nsMaR']\n"
     ]
    }
   ],
   "source": [
    "list_otp=[]\n",
    "for i in range(10):\n",
    "    list_otp.append(random_password())\n",
    "print('List of 10 random password generated:\\n',list_otp)"
   ]
  },
  {
   "cell_type": "code",
   "execution_count": 7,
   "metadata": {},
   "outputs": [
    {
     "name": "stdout",
     "output_type": "stream",
     "text": [
      "Total time (in sec): 0.03947900000000004\n"
     ]
    }
   ],
   "source": [
    "'''Total time taken by the function to create 5 character password in a loop that runs 1000000 times'''\n",
    "\n",
    "code2='''\n",
    "def random_password():\n",
    "    letters=string.ascii_letters\n",
    "    result_str = ''.join(random.choice(letters) for i in range(5))\n",
    "    return result_str\n",
    "'''\n",
    "\n",
    "print(\"Total time (in sec):\",timeit.timeit(stmt=code2))"
   ]
  },
  {
   "cell_type": "markdown",
   "metadata": {},
   "source": [
    "## 3. Generate 10 character password \n",
    "#### ( atleast a digit, a special character, 2 uppercase characters)"
   ]
  },
  {
   "cell_type": "code",
   "execution_count": 8,
   "metadata": {},
   "outputs": [],
   "source": [
    "def get_password():\n",
    "    password_char=string.ascii_letters+string.digits+string.punctuation\n",
    "    passwrd = ''.join(random.choice(password_char[26:52]) for i in range(2))+\\\n",
    "    ''.join(random.choice(password_char[52:62]))+\\\n",
    "    ''.join(random.choice(password_char[62:94]))+\\\n",
    "    ''.join(random.choice(password_char) for i in range(6))\n",
    "    pass_list= random.sample(passwrd,len(passwrd))\n",
    "    pass_word=''.join(pass_list)\n",
    "    return pass_word"
   ]
  },
  {
   "cell_type": "code",
   "execution_count": 9,
   "metadata": {},
   "outputs": [
    {
     "name": "stdout",
     "output_type": "stream",
     "text": [
      "Total time taken (in sec):  0.04206799999999333\n"
     ]
    }
   ],
   "source": [
    "'''Total time taken by the function to create 10 character password in a loop that runs 1000000 times'''\n",
    "\n",
    "code3='''\n",
    "def get_password():\n",
    "    password_char=string.ascii_letters+string.digits+string.punctuation\n",
    "    passwrd = ''.join(random.choice(password_char[26:52]) for i in range(2))+\\\n",
    "    ''.join(random.choice(password_char[52:62]))+\\\n",
    "    ''.join(random.choice(password_char[62:94]))+\\\n",
    "    ''.join(random.choice(password_char) for i in range(6))\n",
    "    pass_list= random.sample(passwrd,len(passwrd))\n",
    "    pass_word=''.join(pass_list)\n",
    "    return pass_word\n",
    "'''\n",
    "\n",
    "print(\"Total time taken (in sec): \",timeit.timeit(stmt=code3))"
   ]
  },
  {
   "cell_type": "code",
   "execution_count": 10,
   "metadata": {},
   "outputs": [
    {
     "name": "stdout",
     "output_type": "stream",
     "text": [
      "List of 10 random password generated:\n",
      " ['(GV=iTE95X', '?L2VXI2Za\"', 'KY!7h4u#Vy', 'd=CkwW7481', 'p,JA%eW32?', '~P.5*0\"1[F', 'Wv%=o+1J}-', 'uV{RG7Z5I@', 'B~9I8K:4C^', '.pn,%gZ8LD']\n"
     ]
    }
   ],
   "source": [
    "list_otp=[]\n",
    "for i in range(10):\n",
    "    list_otp.append(get_password())\n",
    "print('List of 10 random password generated:\\n',list_otp)"
   ]
  },
  {
   "cell_type": "code",
   "execution_count": 17,
   "metadata": {},
   "outputs": [
    {
     "name": "stdout",
     "output_type": "stream",
     "text": [
      "Input the type of password:' OTP' or 'alphabet_password' or '10 char_password':10 char_password\n",
      "The 10 char_password generated as per the conditions is: D/Dl}6=NM?\n"
     ]
    }
   ],
   "source": [
    "'''OUPUT'''\n",
    "password_type= input(\"Input the type of password:' OTP' or 'alphabet_password' or '10 char_password':\")\n",
    "if password_type == 'OTP':\n",
    "    print('The OTP generated as per the given conditions is:',genOTP())\n",
    "elif password_type == 'alphabet_password':\n",
    "    print('The alphabet_password generated as per the given conditions is:',random_password())\n",
    "elif password_type == '10 char_password':\n",
    "    print('The 10 char_password generated as per the conditions is:',get_password())"
   ]
  },
  {
   "cell_type": "code",
   "execution_count": null,
   "metadata": {},
   "outputs": [],
   "source": []
  }
 ],
 "metadata": {
  "kernelspec": {
   "display_name": "Python 3",
   "language": "python",
   "name": "python3"
  },
  "language_info": {
   "codemirror_mode": {
    "name": "ipython",
    "version": 3
   },
   "file_extension": ".py",
   "mimetype": "text/x-python",
   "name": "python",
   "nbconvert_exporter": "python",
   "pygments_lexer": "ipython3",
   "version": "3.7.6"
  }
 },
 "nbformat": 4,
 "nbformat_minor": 4
}
